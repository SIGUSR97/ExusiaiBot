{
 "metadata": {
  "language_info": {
   "codemirror_mode": {
    "name": "ipython",
    "version": 3
   },
   "file_extension": ".py",
   "mimetype": "text/x-python",
   "name": "python",
   "nbconvert_exporter": "python",
   "pygments_lexer": "ipython3",
   "version": "3.8.0-final"
  },
  "orig_nbformat": 2,
  "kernelspec": {
   "name": "Python 3.8.0 64-bit",
   "display_name": "Python 3.8.0 64-bit",
   "metadata": {
    "interpreter": {
     "hash": "cd0499db08f16c4cec428d36002b6d6e3d6085ad211fc9c793df2e9ada18ac66"
    }
   }
  }
 },
 "nbformat": 4,
 "nbformat_minor": 2,
 "cells": [
  {
   "cell_type": "code",
   "execution_count": 7,
   "metadata": {
    "tags": []
   },
   "outputs": [],
   "source": [
    "import requests\n",
    "from bs4 import BeautifulSoup\n",
    "from pprint import pprint\n",
    "\n",
    "res = requests.get(\"http://prts.wiki/w/%E5%B9%B2%E5%91%98%E4%B8%80%E8%A7%88\")\n",
    "soup = BeautifulSoup(res.text)\n",
    "# pprint(soup.find_all(class_=\"smwdata\"))\n",
    "smwdata = soup.find_all(class_=\"smwdata\")"
   ]
  },
  {
   "cell_type": "code",
   "execution_count": 8,
   "metadata": {
    "tags": []
   },
   "outputs": [
    {
     "output_type": "stream",
     "name": "stdout",
     "text": "{'cn': 'W', 'position': '远程位', 'en': 'W', 'sex': '女', 'tag': '输出 控场', 'race': '萨卡兹', 'rarity': '5', 'class': '狙击', 'approach': '限定寻访', 'camp': '巴别塔', 'team': '无团队', 'des': '萨卡兹雇佣兵W，战场上最危险的信号。', 'feature': '攻击造成<span style=\"color:#00B0FF;\">群体物理伤害</span>', 'str': '标准', 'flex': '标准', 'tolerance': '优良', 'plan': '卓越', 'skill': '优良', 'adapt': '标准', 'moredes': '她笑起来的时候总没好事。她一直在笑。', 'icon': '//prts.wiki/images/d/d6/%E5%A4%B4%E5%83%8F_W.png', 'half': '//prts.wiki/images/thumb/4/45/%E5%8D%8A%E8%BA%AB%E5%83%8F_W_1.png/110px-%E5%8D%8A%E8%BA%AB%E5%83%8F_W_1.png', 'ori-hp': '821', 'ori-atk': '397', 'ori-def': '68', 'ori-res': '0', 'ori-dt': '70s', 'ori-dc': '25→27→29', 'ori-block': '1', 'ori-cd': '2.8s', 'index': 'B214', 'sort_id': '137', 'jp': '', 'birthplace': '卡兹戴尔'}\n"
    }
   ],
   "source": [
    "def remove_prefix(prefix, string):\n",
    "    if string.startswith(prefix):\n",
    "        return string[len(prefix):]\n",
    "    return string\n",
    "result = []\n",
    "for i in smwdata:\n",
    "    temp = {\n",
    "        remove_prefix(\"data-\", k): v\n",
    "        for k, v in i.attrs.items() if k != \"class\"\n",
    "    }\n",
    "    if temp[\"cn\"] == \"W\":\n",
    "        print(temp)\n",
    "    result.append(temp)\n",
    "    # pprint(i.attrs)\n",
    "# pprint(result)"
   ]
  },
  {
   "cell_type": "code",
   "execution_count": 11,
   "metadata": {
    "tags": []
   },
   "outputs": [
    {
     "output_type": "stream",
     "name": "stdout",
     "text": "('rd', '芜湖！起飞')\n"
    }
   ],
   "source": [
    "import re\n",
    "\n",
    "print(re.match(r\"(rd?)(.*)\", \"rd芜湖！起飞\").groups())"
   ]
  }
 ]
}